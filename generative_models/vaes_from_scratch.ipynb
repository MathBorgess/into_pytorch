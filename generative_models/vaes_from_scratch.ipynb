{
 "cells": [
  {
   "cell_type": "code",
   "execution_count": 1,
   "metadata": {},
   "outputs": [],
   "source": [
    "import torch\n",
    "from torch import nn"
   ]
  },
  {
   "cell_type": "code",
   "execution_count": null,
   "metadata": {},
   "outputs": [],
   "source": [
    "class VarietionalAutoEncoder(nn.Module):\n",
    "    def __init__(self, input_dim, hidden_dim, latent_dim):\n",
    "        super(VarietionalAutoEncoder, self).__init__()\n",
    "        self.img_2hid = nn.Linear(input_dim, hidden_dim)\n",
    "        self.hid_2mu = nn.Linear(hidden_dim, latent_dim)\n",
    "        self.hid_2sigma = nn.Linear(hidden_dim, latent_dim)\n",
    "\n",
    "        self.z_2hid = nn.Linear(latent_dim, hidden_dim)\n",
    "        self.hid_2img = nn.Linear(hidden_dim, input_dim)\n",
    "\n",
    "        self.relu = nn.ReLu()\n",
    "    \n",
    "    def encode(self, x):\n",
    "        x = self.relu(self.img_2hid(x))\n",
    "        return self.hid_2mu(x), self.hid_2sigma(x)\n",
    "\n",
    "    def decode(self, z):\n",
    "        x_hat = self.relu(self.z_2hid(z))\n",
    "        return torch.sigmoid(self.hid_2img(x_hat))\n",
    "\n",
    "    def forward(self, x):\n",
    "        mu, sigma = self.encode(x)\n",
    "        epsilon = torch.randn_like(sigma)\n",
    "        z_reparametrized = mu + sigma * epsilon\n",
    "\n",
    "        x_hat = self.decode(z_reparametrized)\n",
    "\n",
    "        return x_hat, mu, sigma"
   ]
  },
  {
   "cell_type": "code",
   "execution_count": null,
   "metadata": {},
   "outputs": [],
   "source": [
    "from torchvision import datasets, transforms\n",
    "from torchvision.utils import save_image\n",
    "from torch.utils.data import DataLoader\n",
    "\n",
    "device = torch.device('cuda' if torch.cuda.is_available() else 'cpu')\n",
    "input_dim = 28*28\n",
    "h_dim = 252\n",
    "z_dim = 20\n",
    "epochs = 10\n",
    "batch_size = 32\n",
    "lr = 3e-4 # karpathy constant\n",
    "\n",
    "model = VarietionalAutoEncoder(input_dim, h_dim, z_dim).to(device)\n",
    "\n",
    "dataset = datasets.mnist(root='dataset/', train=True, transform=transforms.ToTensor(), download=True)\n",
    "train_loader = DataLoader(dataset=dataset, batch_size=batch_size, shuffle=True)\n",
    "\n",
    "optimizer = torch.optim.Adam(model.parameters(),lr=lr)\n",
    "loss_fn = nn.BCELoss(reduction=\"sum\")"
   ]
  },
  {
   "cell_type": "code",
   "execution_count": null,
   "metadata": {},
   "outputs": [],
   "source": [
    "for epoch in range(epochs):\n",
    "    for _, (x, _) in enumerate(train_loader):\n",
    "        \n",
    "        x = x.to(device).view(x.shape[0], input_dim)\n",
    "        x_reconstructed, mu, sigma = model(x)\n",
    "\n",
    "        reconstruction_loss = loss_fn(x_reconstructed, x)\n",
    "        kl_div = torch.sum(1 + torch.log(sigma.pow(2)) - mu.pow(2) - sigma.pow(2))\n",
    "\n",
    "        loss = reconstruction_loss - kl_div\n",
    "        optimizer.zero_grad()\n",
    "        loss.backward()\n",
    "        optimizer.step()"
   ]
  }
 ],
 "metadata": {
  "kernelspec": {
   "display_name": "Python 3",
   "language": "python",
   "name": "python3"
  },
  "language_info": {
   "codemirror_mode": {
    "name": "ipython",
    "version": 3
   },
   "file_extension": ".py",
   "mimetype": "text/x-python",
   "name": "python",
   "nbconvert_exporter": "python",
   "pygments_lexer": "ipython3",
   "version": "3.11.3"
  },
  "orig_nbformat": 4
 },
 "nbformat": 4,
 "nbformat_minor": 2
}
