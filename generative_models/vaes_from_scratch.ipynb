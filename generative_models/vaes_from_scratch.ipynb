{
  "cells": [
    {
      "cell_type": "markdown",
      "metadata": {
        "id": "view-in-github",
        "colab_type": "text"
      },
      "source": [
        "<a href=\"https://colab.research.google.com/github/MathBorgess/into_pytorch/blob/master/generative_models/vaes_from_scratch.ipynb\" target=\"_parent\"><img src=\"https://colab.research.google.com/assets/colab-badge.svg\" alt=\"Open In Colab\"/></a>"
      ]
    },
    {
      "cell_type": "code",
      "execution_count": 1,
      "metadata": {
        "id": "q3E-YLF_5N-p"
      },
      "outputs": [],
      "source": [
        "import torch\n",
        "from torch import nn"
      ]
    },
    {
      "cell_type": "code",
      "execution_count": 2,
      "metadata": {
        "id": "QEzuCU9t5N-t"
      },
      "outputs": [],
      "source": [
        "class VarietionalAutoEncoder(nn.Module):\n",
        "    def __init__(self, input_dim, hidden_dim, latent_dim):\n",
        "        super(VarietionalAutoEncoder, self).__init__()\n",
        "        self.img_2hid = nn.Linear(input_dim, hidden_dim)\n",
        "        self.hid_2mu = nn.Linear(hidden_dim, latent_dim)\n",
        "        self.hid_2sigma = nn.Linear(hidden_dim, latent_dim)\n",
        "\n",
        "        self.z_2hid = nn.Linear(latent_dim, hidden_dim)\n",
        "        self.hid_2img = nn.Linear(hidden_dim, input_dim)\n",
        "\n",
        "        self.relu = nn.ReLU()\n",
        "\n",
        "    def encode(self, x):\n",
        "        x = self.relu(self.img_2hid(x))\n",
        "        return self.hid_2mu(x), self.hid_2sigma(x)\n",
        "\n",
        "    def decode(self, z):\n",
        "        x_hat = self.relu(self.z_2hid(z))\n",
        "        return torch.sigmoid(self.hid_2img(x_hat))\n",
        "\n",
        "    def forward(self, x):\n",
        "        mu, sigma = self.encode(x)\n",
        "        epsilon = torch.randn_like(sigma)\n",
        "        z_reparametrized = mu + sigma * epsilon\n",
        "\n",
        "        x_hat = self.decode(z_reparametrized)\n",
        "\n",
        "        return x_hat, mu, sigma"
      ]
    },
    {
      "cell_type": "code",
      "execution_count": 3,
      "metadata": {
        "id": "e6m2O_Gc5N-u"
      },
      "outputs": [],
      "source": [
        "from torchvision import datasets, transforms\n",
        "from torchvision.utils import save_image\n",
        "from torch.utils.data import DataLoader\n",
        "\n",
        "device = torch.device('cuda' if torch.cuda.is_available() else 'cpu')\n",
        "input_dim = 28*28\n",
        "h_dim = 252\n",
        "z_dim = 20\n",
        "epochs = 10\n",
        "batch_size = 32\n",
        "lr = 3e-4 # karpathy constant\n",
        "\n",
        "model = VarietionalAutoEncoder(input_dim, h_dim, z_dim).to(device)\n",
        "\n",
        "dataset = datasets.MNIST(root='dataset/', train=True, transform=transforms.ToTensor(), download=True)\n",
        "train_loader = DataLoader(dataset=dataset, batch_size=batch_size, shuffle=True)\n",
        "\n",
        "optimizer = torch.optim.Adam(model.parameters(),lr=lr)\n",
        "loss_fn = nn.BCELoss(reduction=\"sum\")"
      ]
    },
    {
      "cell_type": "code",
      "execution_count": 5,
      "metadata": {
        "id": "bipM1IQC5N-v",
        "outputId": "a678f9fd-1e09-4d2b-fdc7-227a2d68a9f5",
        "colab": {
          "base_uri": "https://localhost:8080/"
        }
      },
      "outputs": [
        {
          "output_type": "stream",
          "name": "stdout",
          "text": [
            "epoch: 0/10 loss: 4709.1533203125\n",
            "epoch: 1/10 loss: 4646.25048828125\n",
            "epoch: 2/10 loss: 4240.48828125\n",
            "epoch: 3/10 loss: 4204.97412109375\n",
            "epoch: 4/10 loss: 4413.064453125\n",
            "epoch: 5/10 loss: 4084.40478515625\n",
            "epoch: 6/10 loss: 4326.85205078125\n",
            "epoch: 7/10 loss: 4229.59326171875\n",
            "epoch: 8/10 loss: 4042.04931640625\n",
            "epoch: 9/10 loss: 4367.39453125\n"
          ]
        }
      ],
      "source": [
        "for epoch in range(epochs):\n",
        "    for _, (x, _) in enumerate(train_loader):\n",
        "\n",
        "        x = x.to(device).view(x.shape[0], input_dim)\n",
        "        x_reconstructed, mu, sigma = model(x)\n",
        "\n",
        "        reconstruction_loss = loss_fn(x_reconstructed, x)\n",
        "        kl_div = torch.sum(1 + torch.log(sigma.pow(2)) - mu.pow(2) - sigma.pow(2))\n",
        "\n",
        "        loss = reconstruction_loss - kl_div\n",
        "        optimizer.zero_grad()\n",
        "        loss.backward()\n",
        "        optimizer.step()\n",
        "    print(f'epoch: {epoch}/{epochs} loss: {loss}')"
      ]
    },
    {
      "cell_type": "code",
      "execution_count": 10,
      "metadata": {
        "id": "S5AvE3ZI5N-v"
      },
      "outputs": [],
      "source": [
        "def inference(digit, samples=1):\n",
        "    images = []\n",
        "    for x, y in dataset:\n",
        "        if y == digit:\n",
        "            images.append(x.to(device))\n",
        "    mu, sigma = (0,0)\n",
        "    with torch.no_grad():\n",
        "        mu, sigma = model.encode(images[0].view(1, input_dim))\n",
        "\n",
        "    for i in range(samples):\n",
        "        epsilon = torch.randn_like(sigma)\n",
        "        z = mu + sigma * epsilon\n",
        "        out = model.decode(z)\n",
        "        out = out.view(-1, 1, 28, 28)\n",
        "        save_image(out, f\"generated_{digit}_ex{i}.png\")"
      ]
    },
    {
      "cell_type": "code",
      "execution_count": 11,
      "metadata": {
        "id": "ABqTfmuY5N-w"
      },
      "outputs": [],
      "source": [
        "inference(3, 3)"
      ]
    }
  ],
  "metadata": {
    "kernelspec": {
      "display_name": "Python 3",
      "name": "python3"
    },
    "language_info": {
      "codemirror_mode": {
        "name": "ipython",
        "version": 3
      },
      "file_extension": ".py",
      "mimetype": "text/x-python",
      "name": "python",
      "nbconvert_exporter": "python",
      "pygments_lexer": "ipython3",
      "version": "3.11.3"
    },
    "orig_nbformat": 4,
    "colab": {
      "provenance": [],
      "gpuType": "T4",
      "include_colab_link": true
    },
    "accelerator": "GPU"
  },
  "nbformat": 4,
  "nbformat_minor": 0
}