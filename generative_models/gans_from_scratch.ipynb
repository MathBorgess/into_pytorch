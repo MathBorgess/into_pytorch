{
  "cells": [
    {
      "cell_type": "markdown",
      "metadata": {
        "id": "view-in-github",
        "colab_type": "text"
      },
      "source": [
        "<a href=\"https://colab.research.google.com/github/MathBorgess/into_pytorch/blob/master/generative_models/gans_from_scratch.ipynb\" target=\"_parent\"><img src=\"https://colab.research.google.com/assets/colab-badge.svg\" alt=\"Open In Colab\"/></a>"
      ]
    },
    {
      "cell_type": "code",
      "execution_count": 1,
      "metadata": {
        "id": "YAqRQss4OOYa"
      },
      "outputs": [],
      "source": [
        "import torch\n",
        "from torch import nn, optim\n",
        "import torchvision\n",
        "from torchvision import datasets, transforms\n",
        "from torchvision.utils import save_image\n",
        "from torch.utils.data import DataLoader\n",
        "from torch.utils.tensorboard import SummaryWriter"
      ]
    },
    {
      "cell_type": "code",
      "execution_count": 12,
      "metadata": {
        "id": "0pu1AigQOOYe"
      },
      "outputs": [],
      "source": [
        "class Discriminator(nn.Module):\n",
        "    def __init__(self, input_dim, dense_units):\n",
        "        super(Discriminator, self).__init__()\n",
        "        self.disc = nn.Sequential(\n",
        "            nn.Linear(input_dim, dense_units),\n",
        "            nn.LeakyReLU(0.1), # a default choice for GANs\n",
        "            nn.Linear(dense_units, 1),\n",
        "            nn.Sigmoid()\n",
        "        )\n",
        "    def forward(self, x):\n",
        "        return self.disc(x)"
      ]
    },
    {
      "cell_type": "code",
      "execution_count": 17,
      "metadata": {
        "id": "dk_4mtqSOOYf"
      },
      "outputs": [],
      "source": [
        "class Generator(nn.Module):\n",
        "    def __init__(self, latent_dim, img_dim, dense_units):\n",
        "        super(Generator, self).__init__()\n",
        "        self.gen = nn.Sequential(\n",
        "            nn.Linear(latent_dim, dense_units),\n",
        "            nn.LeakyReLU(0,1),\n",
        "            nn.Linear(dense_units, img_dim),\n",
        "            nn.Tanh()\n",
        "        )\n",
        "    def forward(self, x):\n",
        "        return self.gen(x)"
      ]
    },
    {
      "cell_type": "code",
      "execution_count": 15,
      "metadata": {
        "id": "Y6esZw61OOYg"
      },
      "outputs": [],
      "source": [
        "device = 'cuda' if torch.cuda.is_available() else 'cpu'\n",
        "lr = 1e-4\n",
        "latent_dim = 8*8\n",
        "image_dim = 28 * 28 * 1\n",
        "dense_units = 252\n",
        "batch_size = 32\n",
        "epochs = 50"
      ]
    },
    {
      "cell_type": "code",
      "execution_count": 18,
      "metadata": {
        "id": "iZkefaeFOOYg",
        "outputId": "f7ee44ad-8ea7-44ba-c96b-7456606e295d",
        "colab": {
          "base_uri": "https://localhost:8080/"
        }
      },
      "outputs": [
        {
          "output_type": "stream",
          "name": "stdout",
          "text": [
            "Downloading http://yann.lecun.com/exdb/mnist/train-images-idx3-ubyte.gz\n",
            "Downloading http://yann.lecun.com/exdb/mnist/train-images-idx3-ubyte.gz to dataset/MNIST/raw/train-images-idx3-ubyte.gz\n"
          ]
        },
        {
          "output_type": "stream",
          "name": "stderr",
          "text": [
            "100%|██████████| 9912422/9912422 [00:00<00:00, 74426547.21it/s]\n"
          ]
        },
        {
          "output_type": "stream",
          "name": "stdout",
          "text": [
            "Extracting dataset/MNIST/raw/train-images-idx3-ubyte.gz to dataset/MNIST/raw\n",
            "\n",
            "Downloading http://yann.lecun.com/exdb/mnist/train-labels-idx1-ubyte.gz\n",
            "Downloading http://yann.lecun.com/exdb/mnist/train-labels-idx1-ubyte.gz to dataset/MNIST/raw/train-labels-idx1-ubyte.gz\n"
          ]
        },
        {
          "output_type": "stream",
          "name": "stderr",
          "text": [
            "100%|██████████| 28881/28881 [00:00<00:00, 36268171.80it/s]\n"
          ]
        },
        {
          "output_type": "stream",
          "name": "stdout",
          "text": [
            "Extracting dataset/MNIST/raw/train-labels-idx1-ubyte.gz to dataset/MNIST/raw\n",
            "\n",
            "Downloading http://yann.lecun.com/exdb/mnist/t10k-images-idx3-ubyte.gz\n",
            "Downloading http://yann.lecun.com/exdb/mnist/t10k-images-idx3-ubyte.gz to dataset/MNIST/raw/t10k-images-idx3-ubyte.gz\n"
          ]
        },
        {
          "output_type": "stream",
          "name": "stderr",
          "text": [
            "100%|██████████| 1648877/1648877 [00:00<00:00, 66375140.57it/s]"
          ]
        },
        {
          "output_type": "stream",
          "name": "stdout",
          "text": [
            "Extracting dataset/MNIST/raw/t10k-images-idx3-ubyte.gz to dataset/MNIST/raw\n"
          ]
        },
        {
          "output_type": "stream",
          "name": "stderr",
          "text": [
            "\n"
          ]
        },
        {
          "output_type": "stream",
          "name": "stdout",
          "text": [
            "\n",
            "Downloading http://yann.lecun.com/exdb/mnist/t10k-labels-idx1-ubyte.gz\n",
            "Downloading http://yann.lecun.com/exdb/mnist/t10k-labels-idx1-ubyte.gz to dataset/MNIST/raw/t10k-labels-idx1-ubyte.gz\n"
          ]
        },
        {
          "output_type": "stream",
          "name": "stderr",
          "text": [
            "100%|██████████| 4542/4542 [00:00<00:00, 18023206.02it/s]\n"
          ]
        },
        {
          "output_type": "stream",
          "name": "stdout",
          "text": [
            "Extracting dataset/MNIST/raw/t10k-labels-idx1-ubyte.gz to dataset/MNIST/raw\n",
            "\n"
          ]
        }
      ],
      "source": [
        "disc = Discriminator(image_dim, dense_units).to(device)\n",
        "gen = Generator(latent_dim, image_dim, dense_units).to(device)\n",
        "\n",
        "fixed_noise = torch.randn((batch_size, latent_dim)).to(device)\n",
        "transforms = transforms.Compose(\n",
        "    [transforms.ToTensor(), transforms.Normalize((0.5,), (0.5,))]\n",
        ")\n",
        "\n",
        "dataset = datasets.MNIST(root='dataset/', transform=transforms, download=True)\n",
        "loader = DataLoader(dataset, batch_size=batch_size, shuffle=True)\n",
        "\n",
        "disc_optimizer = optim.Adam(disc.parameters(), lr=lr)\n",
        "gen_optimizer = optim.Adam(gen.parameters(), lr=lr)\n",
        "\n",
        "criterion = nn.BCELoss()\n",
        "\n",
        "writer_fake = SummaryWriter(f'runs/GAN/fake')\n",
        "writer_real = SummaryWriter(f'runs/GAN/real')\n",
        "step = 0"
      ]
    },
    {
      "cell_type": "code",
      "execution_count": 19,
      "metadata": {
        "id": "uYq_3Hp9OOYh",
        "outputId": "62fc36c8-db4a-42d8-d4c3-7c8b15d51594",
        "colab": {
          "base_uri": "https://localhost:8080/",
          "height": 726
        }
      },
      "outputs": [
        {
          "output_type": "stream",
          "name": "stdout",
          "text": [
            " epoch 0/50 gen_loss: 0.6919145584106445 disc_loss: 0.6896236538887024\n",
            " epoch 1/50 gen_loss: 1.248140811920166 disc_loss: 0.38303080201148987\n",
            " epoch 2/50 gen_loss: 0.927990734577179 disc_loss: 0.6187950372695923\n",
            " epoch 3/50 gen_loss: 1.0287690162658691 disc_loss: 0.44701051712036133\n",
            " epoch 4/50 gen_loss: 0.9006974697113037 disc_loss: 0.5167999863624573\n",
            " epoch 5/50 gen_loss: 1.4555137157440186 disc_loss: 0.35877102613449097\n",
            " epoch 6/50 gen_loss: 1.2283070087432861 disc_loss: 0.36854785680770874\n",
            " epoch 7/50 gen_loss: 1.281175136566162 disc_loss: 0.49029773473739624\n",
            " epoch 8/50 gen_loss: 1.6893389225006104 disc_loss: 0.2908696234226227\n",
            " epoch 9/50 gen_loss: 1.689479947090149 disc_loss: 0.39602190256118774\n",
            " epoch 10/50 gen_loss: 1.3565142154693604 disc_loss: 0.4471641182899475\n",
            " epoch 11/50 gen_loss: 1.4847629070281982 disc_loss: 0.47024962306022644\n",
            " epoch 12/50 gen_loss: 3.22965669631958 disc_loss: 0.1002495288848877\n",
            " epoch 13/50 gen_loss: 2.212141990661621 disc_loss: 0.22362785041332245\n",
            " epoch 14/50 gen_loss: 2.225686550140381 disc_loss: 0.3272269070148468\n",
            " epoch 15/50 gen_loss: 2.5417404174804688 disc_loss: 0.24811558425426483\n",
            " epoch 16/50 gen_loss: 2.26223087310791 disc_loss: 0.22745749354362488\n",
            " epoch 17/50 gen_loss: 1.9189674854278564 disc_loss: 0.2627367079257965\n",
            " epoch 18/50 gen_loss: 1.8541233539581299 disc_loss: 0.25838255882263184\n"
          ]
        },
        {
          "output_type": "error",
          "ename": "KeyboardInterrupt",
          "evalue": "ignored",
          "traceback": [
            "\u001b[0;31m---------------------------------------------------------------------------\u001b[0m",
            "\u001b[0;31mKeyboardInterrupt\u001b[0m                         Traceback (most recent call last)",
            "\u001b[0;32m<ipython-input-19-4b6bb8ced644>\u001b[0m in \u001b[0;36m<cell line: 1>\u001b[0;34m()\u001b[0m\n\u001b[1;32m     27\u001b[0m         \u001b[0moutput_disc\u001b[0m \u001b[0;34m=\u001b[0m \u001b[0mdisc\u001b[0m\u001b[0;34m(\u001b[0m\u001b[0mfake\u001b[0m\u001b[0;34m)\u001b[0m\u001b[0;34m.\u001b[0m\u001b[0mview\u001b[0m\u001b[0;34m(\u001b[0m\u001b[0;34m-\u001b[0m\u001b[0;36m1\u001b[0m\u001b[0;34m)\u001b[0m\u001b[0;34m.\u001b[0m\u001b[0mto\u001b[0m\u001b[0;34m(\u001b[0m\u001b[0mdevice\u001b[0m\u001b[0;34m)\u001b[0m\u001b[0;34m\u001b[0m\u001b[0;34m\u001b[0m\u001b[0m\n\u001b[1;32m     28\u001b[0m         \u001b[0mloss_gen\u001b[0m \u001b[0;34m=\u001b[0m \u001b[0mcriterion\u001b[0m\u001b[0;34m(\u001b[0m\u001b[0moutput_disc\u001b[0m\u001b[0;34m,\u001b[0m \u001b[0mtorch\u001b[0m\u001b[0;34m.\u001b[0m\u001b[0mones_like\u001b[0m\u001b[0;34m(\u001b[0m\u001b[0moutput_disc\u001b[0m\u001b[0;34m)\u001b[0m\u001b[0;34m)\u001b[0m\u001b[0;34m\u001b[0m\u001b[0;34m\u001b[0m\u001b[0m\n\u001b[0;32m---> 29\u001b[0;31m         \u001b[0mgen\u001b[0m\u001b[0;34m.\u001b[0m\u001b[0mzero_grad\u001b[0m\u001b[0;34m(\u001b[0m\u001b[0;34m)\u001b[0m\u001b[0;34m\u001b[0m\u001b[0;34m\u001b[0m\u001b[0m\n\u001b[0m\u001b[1;32m     30\u001b[0m         \u001b[0mloss_gen\u001b[0m\u001b[0;34m.\u001b[0m\u001b[0mbackward\u001b[0m\u001b[0;34m(\u001b[0m\u001b[0;34m)\u001b[0m\u001b[0;34m\u001b[0m\u001b[0;34m\u001b[0m\u001b[0m\n\u001b[1;32m     31\u001b[0m         \u001b[0mgen_optimizer\u001b[0m\u001b[0;34m.\u001b[0m\u001b[0mstep\u001b[0m\u001b[0;34m(\u001b[0m\u001b[0;34m)\u001b[0m\u001b[0;34m\u001b[0m\u001b[0;34m\u001b[0m\u001b[0m\n",
            "\u001b[0;32m/usr/local/lib/python3.10/dist-packages/torch/nn/modules/module.py\u001b[0m in \u001b[0;36mzero_grad\u001b[0;34m(self, set_to_none)\u001b[0m\n\u001b[1;32m   2331\u001b[0m         \u001b[0;32mreturn\u001b[0m \u001b[0mself\u001b[0m\u001b[0;34m\u001b[0m\u001b[0;34m\u001b[0m\u001b[0m\n\u001b[1;32m   2332\u001b[0m \u001b[0;34m\u001b[0m\u001b[0m\n\u001b[0;32m-> 2333\u001b[0;31m     \u001b[0;32mdef\u001b[0m \u001b[0mzero_grad\u001b[0m\u001b[0;34m(\u001b[0m\u001b[0mself\u001b[0m\u001b[0;34m,\u001b[0m \u001b[0mset_to_none\u001b[0m\u001b[0;34m:\u001b[0m \u001b[0mbool\u001b[0m \u001b[0;34m=\u001b[0m \u001b[0;32mTrue\u001b[0m\u001b[0;34m)\u001b[0m \u001b[0;34m->\u001b[0m \u001b[0;32mNone\u001b[0m\u001b[0;34m:\u001b[0m\u001b[0;34m\u001b[0m\u001b[0;34m\u001b[0m\u001b[0m\n\u001b[0m\u001b[1;32m   2334\u001b[0m         r\"\"\"Sets gradients of all model parameters to zero. See similar function\n\u001b[1;32m   2335\u001b[0m         \u001b[0munder\u001b[0m \u001b[0;34m:\u001b[0m\u001b[0;32mclass\u001b[0m\u001b[0;34m:\u001b[0m\u001b[0;31m`\u001b[0m\u001b[0mtorch\u001b[0m\u001b[0;34m.\u001b[0m\u001b[0moptim\u001b[0m\u001b[0;34m.\u001b[0m\u001b[0mOptimizer\u001b[0m\u001b[0;31m`\u001b[0m \u001b[0;32mfor\u001b[0m \u001b[0mmore\u001b[0m \u001b[0mcontext\u001b[0m\u001b[0;34m.\u001b[0m\u001b[0;34m\u001b[0m\u001b[0;34m\u001b[0m\u001b[0m\n",
            "\u001b[0;31mKeyboardInterrupt\u001b[0m: "
          ]
        }
      ],
      "source": [
        "for epoch in range(epochs):\n",
        "    for batch_idx, (x, _) in enumerate(loader):\n",
        "        x = x.to(device)\n",
        "        x = x.view(-1, image_dim)\n",
        "\n",
        "        # Disc training: max log(D(real)) + log(1 - D(G(x)))\n",
        "        # BCELoss = -w_n [y_n log(x_n) + (1-y_n) log(1 - x_n)]\n",
        "        noise = torch.randn(batch_size, latent_dim).to(device)\n",
        "        fake = gen(noise)\n",
        "        disc_real = disc(x).view(-1)\n",
        "\n",
        "        # only y_n log(x_n)\n",
        "        loss_real = criterion(disc_real, torch.ones_like(disc_real))\n",
        "\n",
        "        disc_fake = disc(fake.detach()).view(-1)\n",
        "        # only (1 - y_n)log(1 - x_n)\n",
        "        loss_fake = criterion(disc_fake, torch.zeros_like(disc_fake))\n",
        "\n",
        "        lossD = (loss_fake + loss_real) / 2\n",
        "        disc.zero_grad()\n",
        "        # if the retain is not true, the nodes of the variable graph will be\n",
        "        # removed from to save memory, so we wouldn't be able to use the fake again\n",
        "        lossD.backward(retain_graph=True)\n",
        "        disc_optimizer.step()\n",
        "\n",
        "        # Train Generator: min log(1-D(G(z))) <-> max log(D(G(z)))\n",
        "        output_disc = disc(fake).view(-1).to(device)\n",
        "        loss_gen = criterion(output_disc, torch.ones_like(output_disc))\n",
        "        gen.zero_grad()\n",
        "        loss_gen.backward()\n",
        "        gen_optimizer.step()\n",
        "\n",
        "\n",
        "        with torch.no_grad():\n",
        "            if batch_idx == 0:\n",
        "                print(f' epoch {epoch}/{epochs} gen_loss: {loss_gen} disc_loss: {lossD}')\n",
        "\n",
        "                fake_grid = torchvision.utils.make_grid(gen(noise).reshape(-1, 1, 28, 28), normalize=True)\n",
        "                real_grid = torchvision.utils.make_grid(x.reshape(-1, 1, 28, 28), normalize=True)\n",
        "\n",
        "\n",
        "                writer_fake.add_image(f'fake_',fake_grid, global_step=step)\n",
        "                writer_real.add_image(f'real_', real_grid, global_step=step)\n",
        "\n",
        "                step += 1"
      ]
    },
    {
      "cell_type": "code",
      "source": [
        "%tensorboad --logdir runs/GAN"
      ],
      "metadata": {
        "id": "nH1VOw8uQm6t",
        "outputId": "b7ece4f8-a051-4949-da0b-ce9fe6ba3c70",
        "colab": {
          "base_uri": "https://localhost:8080/"
        }
      },
      "execution_count": 20,
      "outputs": [
        {
          "output_type": "stream",
          "name": "stderr",
          "text": [
            "UsageError: Line magic function `%tensorboad` not found.\n"
          ]
        }
      ]
    }
  ],
  "metadata": {
    "kernelspec": {
      "display_name": "Python 3",
      "name": "python3"
    },
    "language_info": {
      "codemirror_mode": {
        "name": "ipython",
        "version": 3
      },
      "file_extension": ".py",
      "mimetype": "text/x-python",
      "name": "python",
      "nbconvert_exporter": "python",
      "pygments_lexer": "ipython3",
      "version": "3.11.3"
    },
    "orig_nbformat": 4,
    "colab": {
      "provenance": [],
      "gpuType": "T4",
      "include_colab_link": true
    },
    "accelerator": "GPU"
  },
  "nbformat": 4,
  "nbformat_minor": 0
}