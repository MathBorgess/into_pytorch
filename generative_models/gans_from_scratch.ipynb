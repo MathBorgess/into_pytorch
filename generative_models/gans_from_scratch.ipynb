{
 "cells": [
  {
   "cell_type": "code",
   "execution_count": null,
   "metadata": {},
   "outputs": [],
   "source": []
  },
  {
   "cell_type": "code",
   "execution_count": 1,
   "metadata": {},
   "outputs": [],
   "source": [
    "import torch\n",
    "from torch import nn, optim\n",
    "import torchvision\n",
    "from torchvision import datasets, transforms\n",
    "from torchvision.utils import save_image\n",
    "from torch.utils.data import DataLoader\n",
    "from torch.utils.tensorboard import SummaryWriter"
   ]
  },
  {
   "cell_type": "code",
   "execution_count": null,
   "metadata": {},
   "outputs": [],
   "source": [
    "class Discriminator(nn.Module):\n",
    "    def __init__(self, input_dim, dense_units):\n",
    "        super(Discriminator, self).__init__()\n",
    "        self.disc = nn.Sequential(\n",
    "            nn.Linear(input_dim, dense_units),\n",
    "            nn.LeakyReLU(0.1), # a default choice for GANs\n",
    "            nn.Linear(dense_units, 1),\n",
    "            nn.Sigmoid()\n",
    "        )\n",
    "    def forward(self, x):\n",
    "        return self.disc(x)"
   ]
  },
  {
   "cell_type": "code",
   "execution_count": null,
   "metadata": {},
   "outputs": [],
   "source": [
    "class Generator(nn.Module):\n",
    "    def __init__(self, latent_dim, img_dim, dense_units):\n",
    "        self.gen = nn.Sequential(\n",
    "            nn.Linear(latent_dim, dense_units),\n",
    "            nn.LeakyReLU(0,1),\n",
    "            nn.Linear(dense_units, img_dim),\n",
    "            nn.Tanh()\n",
    "        )\n",
    "    def forward(self, x):\n",
    "        return self.gen(x)"
   ]
  },
  {
   "cell_type": "code",
   "execution_count": null,
   "metadata": {},
   "outputs": [],
   "source": [
    "device = 'cuda' if torch.cuda.is_available() else 'cpu'\n",
    "lr = 1e-4\n",
    "latent_dim = 8*8\n",
    "image_dim = 28 * 28 * 1,\n",
    "dense_units = 256\n",
    "batch_size = 32\n",
    "epochs = 50"
   ]
  },
  {
   "cell_type": "code",
   "execution_count": null,
   "metadata": {},
   "outputs": [],
   "source": [
    "disc = Discriminator(image_dim, dense_units).to(device)\n",
    "gen = Generator(latent_dim, image_dim, dense_units).to(device)\n",
    "\n",
    "fixed_noise = torch.randn((batch_size, latent_dim)).to(device)\n",
    "transforms = transforms.Compose(\n",
    "    [transforms.ToTensor(), transforms.Normalize((0.5,), (0.5,))]\n",
    ")\n",
    "\n",
    "dataset = datasets.MNIST(root='dataset/', transform=transforms, download=True)\n",
    "loader = DataLoader(dataset, batch_size=batch_size, shuffle=True)\n",
    "\n",
    "disc_optimizer = optim.Adam(disc.parameters(), lr=lr)\n",
    "gen_optimizer = optim.Adam(gen.parameters(), lr=lr)\n",
    "\n",
    "criterion = nn.BCELoss()\n",
    "\n",
    "writer_fake = SummaryWriter(f'runs/GAN/fake')\n",
    "writer_real = SummaryWriter(f'runs/GAN/real')\n",
    "step = 0"
   ]
  },
  {
   "cell_type": "code",
   "execution_count": null,
   "metadata": {},
   "outputs": [],
   "source": [
    "for epoch in range(epochs):\n",
    "    for batch_idx, (x, _) in enumerate(loader):\n",
    "        x = x.to(device)\n",
    "        x = x.view(-1, image_dim)\n",
    "\n",
    "        # Disc training: max log(D(real)) + log(1 - D(G(x)))\n",
    "        # BCELoss = -w_n [y_n log(x_n) + (1-y_n) log(1 - x_n)]\n",
    "        noise = torch.randn(batch_size, latent_dim).to(device)\n",
    "        fake = gen(noise)\n",
    "        disc_real = disc(x).view(-1)\n",
    "\n",
    "        # only y_n log(x_n)\n",
    "        loss_real = criterion(disc_real, torch.ones_like(disc_real))\n",
    "\n",
    "        disc_fake = disc(fake.detach()).view(-1)\n",
    "        # only (1 - y_n)log(1 - x_n)\n",
    "        loss_fake = criterion(disc_fake, torch.zeros_like(disc_fake))\n",
    "\n",
    "        lossD = (loss_fake + loss_real) / 2\n",
    "        disc.zero_grad()\n",
    "        # if the retain is not true, the nodes of the variable graph will be\n",
    "        # removed from to save memory, so we wouldn't be able to use the fake again\n",
    "        lossD.backward(retain_graph=True)\n",
    "        disc_optimizer.step()\n",
    "\n",
    "        # Train Generator: min log(1-D(G(z))) <-> max log(D(G(z)))\n",
    "        output_disc = disc(fake).view(-1).to(device)\n",
    "        loss_gen = criterion(output_disc, torch.ones_like(output_disc))\n",
    "        gen.zero_grad()\n",
    "        loss_gen.backward()\n",
    "        gen_optimizer.step()\n",
    "\n",
    "\n",
    "        with torch.no_grad():\n",
    "            if batch_idx == 0:\n",
    "                print(f' epoch {epoch}/{epochs} gen_loss: {loss_gen} disc_loss: {lossD}')\n",
    "\n",
    "                fake_grid = torchvision.utils.make_grid(gen(noise).reshape(-1, 1, 28, 28), normalize=True)\n",
    "                real_grid = torchvision.utils.make_grid(x.reshape(-1, 1, 28, 28), normalize=True)\n",
    "\n",
    "                \n",
    "                writer_fake.add_image(f'fake_',fake_grid, global_step=step)\n",
    "                writer_real.add_image(f'real_', real_grid, global_step=step)\n",
    "\n",
    "                step += 1"
   ]
  }
 ],
 "metadata": {
  "kernelspec": {
   "display_name": "Python 3",
   "language": "python",
   "name": "python3"
  },
  "language_info": {
   "codemirror_mode": {
    "name": "ipython",
    "version": 3
   },
   "file_extension": ".py",
   "mimetype": "text/x-python",
   "name": "python",
   "nbconvert_exporter": "python",
   "pygments_lexer": "ipython3",
   "version": "3.11.3"
  },
  "orig_nbformat": 4
 },
 "nbformat": 4,
 "nbformat_minor": 2
}
